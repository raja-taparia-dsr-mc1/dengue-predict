{
 "cells": [
  {
   "cell_type": "code",
   "execution_count": 1,
   "id": "e3f40b08-e489-418d-87d2-7edd016bf8e2",
   "metadata": {},
   "outputs": [],
   "source": [
    "import pandas as pd\n",
    "import numpy as np\n",
    "\n",
    "import os"
   ]
  },
  {
   "cell_type": "code",
   "execution_count": 2,
   "id": "8f1e44cd-8796-42d6-b085-da2e668df607",
   "metadata": {},
   "outputs": [
    {
     "data": {
      "text/plain": [
       "'C:\\\\Users\\\\hanne\\\\dengue-predict\\\\src\\\\jupyter-notbooks'"
      ]
     },
     "execution_count": 2,
     "metadata": {},
     "output_type": "execute_result"
    }
   ],
   "source": [
    "os.getcwd()"
   ]
  },
  {
   "cell_type": "code",
   "execution_count": 9,
   "id": "b5b2b2cc-0c2a-4e82-8bc2-30ee07b0041b",
   "metadata": {},
   "outputs": [
    {
     "name": "stdout",
     "output_type": "stream",
     "text": [
      "C:\\Users\\hanne\\dengue-predict\n"
     ]
    }
   ],
   "source": [
    "cd C:\\Users\\hanne\\dengue-predict"
   ]
  },
  {
   "cell_type": "code",
   "execution_count": 10,
   "id": "920527a7-d898-480a-8ccf-2cda7d22ad8e",
   "metadata": {},
   "outputs": [],
   "source": [
    "train_labels = pd.read_csv('data/dengue_labels_train.csv')"
   ]
  },
  {
   "cell_type": "code",
   "execution_count": 11,
   "id": "bef37c5d-3293-41f0-8c2e-94615dccfeb7",
   "metadata": {},
   "outputs": [
    {
     "data": {
      "text/plain": [
       "sj    936\n",
       "iq    520\n",
       "Name: city, dtype: int64"
      ]
     },
     "execution_count": 11,
     "metadata": {},
     "output_type": "execute_result"
    }
   ],
   "source": [
    "train_labels.city.value_counts()"
   ]
  },
  {
   "cell_type": "code",
   "execution_count": 12,
   "id": "8fbb530a-b01e-4ab0-97d1-efe537c4ef77",
   "metadata": {},
   "outputs": [],
   "source": [
    "train = pd.read_csv('data/dengue_features_train.csv')"
   ]
  },
  {
   "cell_type": "code",
   "execution_count": 13,
   "id": "2a755c46-cbed-4ae9-8550-6ac3c4685de9",
   "metadata": {},
   "outputs": [
    {
     "data": {
      "text/html": [
       "<div>\n",
       "<style scoped>\n",
       "    .dataframe tbody tr th:only-of-type {\n",
       "        vertical-align: middle;\n",
       "    }\n",
       "\n",
       "    .dataframe tbody tr th {\n",
       "        vertical-align: top;\n",
       "    }\n",
       "\n",
       "    .dataframe thead th {\n",
       "        text-align: right;\n",
       "    }\n",
       "</style>\n",
       "<table border=\"1\" class=\"dataframe\">\n",
       "  <thead>\n",
       "    <tr style=\"text-align: right;\">\n",
       "      <th></th>\n",
       "      <th>city</th>\n",
       "      <th>year</th>\n",
       "      <th>weekofyear</th>\n",
       "      <th>week_start_date</th>\n",
       "      <th>ndvi_ne</th>\n",
       "      <th>ndvi_nw</th>\n",
       "      <th>ndvi_se</th>\n",
       "      <th>ndvi_sw</th>\n",
       "      <th>precipitation_amt_mm</th>\n",
       "      <th>reanalysis_air_temp_k</th>\n",
       "      <th>...</th>\n",
       "      <th>reanalysis_relative_humidity_percent</th>\n",
       "      <th>reanalysis_sat_precip_amt_mm</th>\n",
       "      <th>reanalysis_specific_humidity_g_per_kg</th>\n",
       "      <th>reanalysis_tdtr_k</th>\n",
       "      <th>station_avg_temp_c</th>\n",
       "      <th>station_diur_temp_rng_c</th>\n",
       "      <th>station_max_temp_c</th>\n",
       "      <th>station_min_temp_c</th>\n",
       "      <th>station_precip_mm</th>\n",
       "      <th>total_cases</th>\n",
       "    </tr>\n",
       "  </thead>\n",
       "  <tbody>\n",
       "    <tr>\n",
       "      <th>0</th>\n",
       "      <td>sj</td>\n",
       "      <td>1990</td>\n",
       "      <td>18</td>\n",
       "      <td>1990-04-30</td>\n",
       "      <td>0.122600</td>\n",
       "      <td>0.103725</td>\n",
       "      <td>0.198483</td>\n",
       "      <td>0.177617</td>\n",
       "      <td>12.42</td>\n",
       "      <td>297.572857</td>\n",
       "      <td>...</td>\n",
       "      <td>73.365714</td>\n",
       "      <td>12.42</td>\n",
       "      <td>14.012857</td>\n",
       "      <td>2.628571</td>\n",
       "      <td>25.442857</td>\n",
       "      <td>6.900000</td>\n",
       "      <td>29.4</td>\n",
       "      <td>20.0</td>\n",
       "      <td>16.0</td>\n",
       "      <td>4</td>\n",
       "    </tr>\n",
       "    <tr>\n",
       "      <th>1</th>\n",
       "      <td>sj</td>\n",
       "      <td>1990</td>\n",
       "      <td>19</td>\n",
       "      <td>1990-05-07</td>\n",
       "      <td>0.169900</td>\n",
       "      <td>0.142175</td>\n",
       "      <td>0.162357</td>\n",
       "      <td>0.155486</td>\n",
       "      <td>22.82</td>\n",
       "      <td>298.211429</td>\n",
       "      <td>...</td>\n",
       "      <td>77.368571</td>\n",
       "      <td>22.82</td>\n",
       "      <td>15.372857</td>\n",
       "      <td>2.371429</td>\n",
       "      <td>26.714286</td>\n",
       "      <td>6.371429</td>\n",
       "      <td>31.7</td>\n",
       "      <td>22.2</td>\n",
       "      <td>8.6</td>\n",
       "      <td>5</td>\n",
       "    </tr>\n",
       "    <tr>\n",
       "      <th>2</th>\n",
       "      <td>sj</td>\n",
       "      <td>1990</td>\n",
       "      <td>20</td>\n",
       "      <td>1990-05-14</td>\n",
       "      <td>0.032250</td>\n",
       "      <td>0.172967</td>\n",
       "      <td>0.157200</td>\n",
       "      <td>0.170843</td>\n",
       "      <td>34.54</td>\n",
       "      <td>298.781429</td>\n",
       "      <td>...</td>\n",
       "      <td>82.052857</td>\n",
       "      <td>34.54</td>\n",
       "      <td>16.848571</td>\n",
       "      <td>2.300000</td>\n",
       "      <td>26.714286</td>\n",
       "      <td>6.485714</td>\n",
       "      <td>32.2</td>\n",
       "      <td>22.8</td>\n",
       "      <td>41.4</td>\n",
       "      <td>4</td>\n",
       "    </tr>\n",
       "    <tr>\n",
       "      <th>3</th>\n",
       "      <td>sj</td>\n",
       "      <td>1990</td>\n",
       "      <td>21</td>\n",
       "      <td>1990-05-21</td>\n",
       "      <td>0.128633</td>\n",
       "      <td>0.245067</td>\n",
       "      <td>0.227557</td>\n",
       "      <td>0.235886</td>\n",
       "      <td>15.36</td>\n",
       "      <td>298.987143</td>\n",
       "      <td>...</td>\n",
       "      <td>80.337143</td>\n",
       "      <td>15.36</td>\n",
       "      <td>16.672857</td>\n",
       "      <td>2.428571</td>\n",
       "      <td>27.471429</td>\n",
       "      <td>6.771429</td>\n",
       "      <td>33.3</td>\n",
       "      <td>23.3</td>\n",
       "      <td>4.0</td>\n",
       "      <td>3</td>\n",
       "    </tr>\n",
       "    <tr>\n",
       "      <th>4</th>\n",
       "      <td>sj</td>\n",
       "      <td>1990</td>\n",
       "      <td>22</td>\n",
       "      <td>1990-05-28</td>\n",
       "      <td>0.196200</td>\n",
       "      <td>0.262200</td>\n",
       "      <td>0.251200</td>\n",
       "      <td>0.247340</td>\n",
       "      <td>7.52</td>\n",
       "      <td>299.518571</td>\n",
       "      <td>...</td>\n",
       "      <td>80.460000</td>\n",
       "      <td>7.52</td>\n",
       "      <td>17.210000</td>\n",
       "      <td>3.014286</td>\n",
       "      <td>28.942857</td>\n",
       "      <td>9.371429</td>\n",
       "      <td>35.0</td>\n",
       "      <td>23.9</td>\n",
       "      <td>5.8</td>\n",
       "      <td>6</td>\n",
       "    </tr>\n",
       "    <tr>\n",
       "      <th>...</th>\n",
       "      <td>...</td>\n",
       "      <td>...</td>\n",
       "      <td>...</td>\n",
       "      <td>...</td>\n",
       "      <td>...</td>\n",
       "      <td>...</td>\n",
       "      <td>...</td>\n",
       "      <td>...</td>\n",
       "      <td>...</td>\n",
       "      <td>...</td>\n",
       "      <td>...</td>\n",
       "      <td>...</td>\n",
       "      <td>...</td>\n",
       "      <td>...</td>\n",
       "      <td>...</td>\n",
       "      <td>...</td>\n",
       "      <td>...</td>\n",
       "      <td>...</td>\n",
       "      <td>...</td>\n",
       "      <td>...</td>\n",
       "      <td>...</td>\n",
       "    </tr>\n",
       "    <tr>\n",
       "      <th>1451</th>\n",
       "      <td>iq</td>\n",
       "      <td>2010</td>\n",
       "      <td>21</td>\n",
       "      <td>2010-05-28</td>\n",
       "      <td>0.342750</td>\n",
       "      <td>0.318900</td>\n",
       "      <td>0.256343</td>\n",
       "      <td>0.292514</td>\n",
       "      <td>55.30</td>\n",
       "      <td>299.334286</td>\n",
       "      <td>...</td>\n",
       "      <td>88.765714</td>\n",
       "      <td>55.30</td>\n",
       "      <td>18.485714</td>\n",
       "      <td>9.800000</td>\n",
       "      <td>28.633333</td>\n",
       "      <td>11.933333</td>\n",
       "      <td>35.4</td>\n",
       "      <td>22.4</td>\n",
       "      <td>27.0</td>\n",
       "      <td>5</td>\n",
       "    </tr>\n",
       "    <tr>\n",
       "      <th>1452</th>\n",
       "      <td>iq</td>\n",
       "      <td>2010</td>\n",
       "      <td>22</td>\n",
       "      <td>2010-06-04</td>\n",
       "      <td>0.160157</td>\n",
       "      <td>0.160371</td>\n",
       "      <td>0.136043</td>\n",
       "      <td>0.225657</td>\n",
       "      <td>86.47</td>\n",
       "      <td>298.330000</td>\n",
       "      <td>...</td>\n",
       "      <td>91.600000</td>\n",
       "      <td>86.47</td>\n",
       "      <td>18.070000</td>\n",
       "      <td>7.471429</td>\n",
       "      <td>27.433333</td>\n",
       "      <td>10.500000</td>\n",
       "      <td>34.7</td>\n",
       "      <td>21.7</td>\n",
       "      <td>36.6</td>\n",
       "      <td>8</td>\n",
       "    </tr>\n",
       "    <tr>\n",
       "      <th>1453</th>\n",
       "      <td>iq</td>\n",
       "      <td>2010</td>\n",
       "      <td>23</td>\n",
       "      <td>2010-06-11</td>\n",
       "      <td>0.247057</td>\n",
       "      <td>0.146057</td>\n",
       "      <td>0.250357</td>\n",
       "      <td>0.233714</td>\n",
       "      <td>58.94</td>\n",
       "      <td>296.598571</td>\n",
       "      <td>...</td>\n",
       "      <td>94.280000</td>\n",
       "      <td>58.94</td>\n",
       "      <td>17.008571</td>\n",
       "      <td>7.500000</td>\n",
       "      <td>24.400000</td>\n",
       "      <td>6.900000</td>\n",
       "      <td>32.2</td>\n",
       "      <td>19.2</td>\n",
       "      <td>7.4</td>\n",
       "      <td>1</td>\n",
       "    </tr>\n",
       "    <tr>\n",
       "      <th>1454</th>\n",
       "      <td>iq</td>\n",
       "      <td>2010</td>\n",
       "      <td>24</td>\n",
       "      <td>2010-06-18</td>\n",
       "      <td>0.333914</td>\n",
       "      <td>0.245771</td>\n",
       "      <td>0.278886</td>\n",
       "      <td>0.325486</td>\n",
       "      <td>59.67</td>\n",
       "      <td>296.345714</td>\n",
       "      <td>...</td>\n",
       "      <td>94.660000</td>\n",
       "      <td>59.67</td>\n",
       "      <td>16.815714</td>\n",
       "      <td>7.871429</td>\n",
       "      <td>25.433333</td>\n",
       "      <td>8.733333</td>\n",
       "      <td>31.2</td>\n",
       "      <td>21.0</td>\n",
       "      <td>16.0</td>\n",
       "      <td>1</td>\n",
       "    </tr>\n",
       "    <tr>\n",
       "      <th>1455</th>\n",
       "      <td>iq</td>\n",
       "      <td>2010</td>\n",
       "      <td>25</td>\n",
       "      <td>2010-06-25</td>\n",
       "      <td>0.298186</td>\n",
       "      <td>0.232971</td>\n",
       "      <td>0.274214</td>\n",
       "      <td>0.315757</td>\n",
       "      <td>63.22</td>\n",
       "      <td>298.097143</td>\n",
       "      <td>...</td>\n",
       "      <td>89.082857</td>\n",
       "      <td>63.22</td>\n",
       "      <td>17.355714</td>\n",
       "      <td>11.014286</td>\n",
       "      <td>27.475000</td>\n",
       "      <td>9.900000</td>\n",
       "      <td>33.7</td>\n",
       "      <td>22.2</td>\n",
       "      <td>20.4</td>\n",
       "      <td>4</td>\n",
       "    </tr>\n",
       "  </tbody>\n",
       "</table>\n",
       "<p>1456 rows × 25 columns</p>\n",
       "</div>"
      ],
      "text/plain": [
       "     city  year  weekofyear week_start_date   ndvi_ne   ndvi_nw   ndvi_se  \\\n",
       "0      sj  1990          18      1990-04-30  0.122600  0.103725  0.198483   \n",
       "1      sj  1990          19      1990-05-07  0.169900  0.142175  0.162357   \n",
       "2      sj  1990          20      1990-05-14  0.032250  0.172967  0.157200   \n",
       "3      sj  1990          21      1990-05-21  0.128633  0.245067  0.227557   \n",
       "4      sj  1990          22      1990-05-28  0.196200  0.262200  0.251200   \n",
       "...   ...   ...         ...             ...       ...       ...       ...   \n",
       "1451   iq  2010          21      2010-05-28  0.342750  0.318900  0.256343   \n",
       "1452   iq  2010          22      2010-06-04  0.160157  0.160371  0.136043   \n",
       "1453   iq  2010          23      2010-06-11  0.247057  0.146057  0.250357   \n",
       "1454   iq  2010          24      2010-06-18  0.333914  0.245771  0.278886   \n",
       "1455   iq  2010          25      2010-06-25  0.298186  0.232971  0.274214   \n",
       "\n",
       "       ndvi_sw  precipitation_amt_mm  reanalysis_air_temp_k  ...  \\\n",
       "0     0.177617                 12.42             297.572857  ...   \n",
       "1     0.155486                 22.82             298.211429  ...   \n",
       "2     0.170843                 34.54             298.781429  ...   \n",
       "3     0.235886                 15.36             298.987143  ...   \n",
       "4     0.247340                  7.52             299.518571  ...   \n",
       "...        ...                   ...                    ...  ...   \n",
       "1451  0.292514                 55.30             299.334286  ...   \n",
       "1452  0.225657                 86.47             298.330000  ...   \n",
       "1453  0.233714                 58.94             296.598571  ...   \n",
       "1454  0.325486                 59.67             296.345714  ...   \n",
       "1455  0.315757                 63.22             298.097143  ...   \n",
       "\n",
       "      reanalysis_relative_humidity_percent  reanalysis_sat_precip_amt_mm  \\\n",
       "0                                73.365714                         12.42   \n",
       "1                                77.368571                         22.82   \n",
       "2                                82.052857                         34.54   \n",
       "3                                80.337143                         15.36   \n",
       "4                                80.460000                          7.52   \n",
       "...                                    ...                           ...   \n",
       "1451                             88.765714                         55.30   \n",
       "1452                             91.600000                         86.47   \n",
       "1453                             94.280000                         58.94   \n",
       "1454                             94.660000                         59.67   \n",
       "1455                             89.082857                         63.22   \n",
       "\n",
       "      reanalysis_specific_humidity_g_per_kg  reanalysis_tdtr_k  \\\n",
       "0                                 14.012857           2.628571   \n",
       "1                                 15.372857           2.371429   \n",
       "2                                 16.848571           2.300000   \n",
       "3                                 16.672857           2.428571   \n",
       "4                                 17.210000           3.014286   \n",
       "...                                     ...                ...   \n",
       "1451                              18.485714           9.800000   \n",
       "1452                              18.070000           7.471429   \n",
       "1453                              17.008571           7.500000   \n",
       "1454                              16.815714           7.871429   \n",
       "1455                              17.355714          11.014286   \n",
       "\n",
       "      station_avg_temp_c  station_diur_temp_rng_c  station_max_temp_c  \\\n",
       "0              25.442857                 6.900000                29.4   \n",
       "1              26.714286                 6.371429                31.7   \n",
       "2              26.714286                 6.485714                32.2   \n",
       "3              27.471429                 6.771429                33.3   \n",
       "4              28.942857                 9.371429                35.0   \n",
       "...                  ...                      ...                 ...   \n",
       "1451           28.633333                11.933333                35.4   \n",
       "1452           27.433333                10.500000                34.7   \n",
       "1453           24.400000                 6.900000                32.2   \n",
       "1454           25.433333                 8.733333                31.2   \n",
       "1455           27.475000                 9.900000                33.7   \n",
       "\n",
       "      station_min_temp_c  station_precip_mm  total_cases  \n",
       "0                   20.0               16.0            4  \n",
       "1                   22.2                8.6            5  \n",
       "2                   22.8               41.4            4  \n",
       "3                   23.3                4.0            3  \n",
       "4                   23.9                5.8            6  \n",
       "...                  ...                ...          ...  \n",
       "1451                22.4               27.0            5  \n",
       "1452                21.7               36.6            8  \n",
       "1453                19.2                7.4            1  \n",
       "1454                21.0               16.0            1  \n",
       "1455                22.2               20.4            4  \n",
       "\n",
       "[1456 rows x 25 columns]"
      ]
     },
     "execution_count": 13,
     "metadata": {},
     "output_type": "execute_result"
    }
   ],
   "source": [
    "train = train.merge(train_labels, on=['city','year','weekofyear'], how='left')\n",
    "train"
   ]
  },
  {
   "cell_type": "code",
   "execution_count": 14,
   "id": "b660bd34-4ba8-4926-951c-4f8e90ad44e7",
   "metadata": {},
   "outputs": [
    {
     "data": {
      "text/plain": [
       "city  year\n",
       "iq    2001    52\n",
       "      2002    52\n",
       "      2003    52\n",
       "      2004    52\n",
       "      2005    52\n",
       "      2006    52\n",
       "      2007    52\n",
       "      2008    52\n",
       "      2009    52\n",
       "      2000    26\n",
       "      2010    26\n",
       "sj    1991    52\n",
       "      1992    52\n",
       "      1993    52\n",
       "      1994    52\n",
       "      1995    52\n",
       "      1996    52\n",
       "      1997    52\n",
       "      1998    52\n",
       "      1999    52\n",
       "      2000    52\n",
       "      2001    52\n",
       "      2002    52\n",
       "      2003    52\n",
       "      2004    52\n",
       "      2005    52\n",
       "      2006    52\n",
       "      2007    52\n",
       "      1990    35\n",
       "      2008    17\n",
       "Name: year, dtype: int64"
      ]
     },
     "execution_count": 14,
     "metadata": {},
     "output_type": "execute_result"
    }
   ],
   "source": [
    "train.groupby('city')['year'].value_counts()"
   ]
  },
  {
   "cell_type": "code",
   "execution_count": 15,
   "id": "678e962a-6f7a-44ea-a6ce-56869db77330",
   "metadata": {},
   "outputs": [],
   "source": [
    "test = pd.read_csv('data/dengue_features_test.csv')"
   ]
  },
  {
   "cell_type": "code",
   "execution_count": 16,
   "id": "c83a0e83-1147-4602-b0d3-0bbc3a978822",
   "metadata": {},
   "outputs": [
    {
     "data": {
      "text/plain": [
       "city  year\n",
       "iq    2011    52\n",
       "      2012    52\n",
       "      2010    26\n",
       "      2013    26\n",
       "sj    2009    52\n",
       "      2010    52\n",
       "      2011    52\n",
       "      2012    52\n",
       "      2008    35\n",
       "      2013    17\n",
       "Name: year, dtype: int64"
      ]
     },
     "execution_count": 16,
     "metadata": {},
     "output_type": "execute_result"
    }
   ],
   "source": [
    "test.groupby('city')['year'].value_counts()"
   ]
  },
  {
   "cell_type": "code",
   "execution_count": 17,
   "id": "c21b03fc-bf02-4d68-a7f8-33e2e1be71e3",
   "metadata": {},
   "outputs": [
    {
     "data": {
      "text/plain": [
       "<AxesSubplot:ylabel='Frequency'>"
      ]
     },
     "execution_count": 17,
     "metadata": {},
     "output_type": "execute_result"
    },
    {
     "data": {
      "image/png": "[encoded data removed]",
      "text/plain": [
       "<Figure size 432x288 with 1 Axes>"
      ]
     },
     "metadata": {
      "needs_background": "light"
     },
     "output_type": "display_data"
    }
   ],
   "source": [
    "train_labels[train_labels.city=='iq'].total_cases.plot(kind='hist')"
   ]
  },
  {
   "cell_type": "code",
   "execution_count": 18,
   "id": "630dff03-c991-49c0-8634-6f288510db29",
   "metadata": {},
   "outputs": [
    {
     "data": {
      "text/plain": [
       "<AxesSubplot:ylabel='Frequency'>"
      ]
     },
     "execution_count": 18,
     "metadata": {},
     "output_type": "execute_result"
    },
    {
     "data": {
      "image/png": "[encoded data removed]",
      "text/plain": [
       "<Figure size 432x288 with 1 Axes>"
      ]
     },
     "metadata": {
      "needs_background": "light"
     },
     "output_type": "display_data"
    }
   ],
   "source": [
    "train_labels[train_labels.city=='sj'].total_cases.plot(kind='hist')"
   ]
  },
  {
   "cell_type": "code",
   "execution_count": 19,
   "id": "bc58d4c5-1791-4486-ab8d-227a4c5a492e",
   "metadata": {},
   "outputs": [
    {
     "data": {
      "text/plain": [
       "<AxesSubplot:>"
      ]
     },
     "execution_count": 19,
     "metadata": {},
     "output_type": "execute_result"
    },
    {
     "data": {
      "image/png": "[encoded data removed]",
      "text/plain": [
       "<Figure size 720x720 with 2 Axes>"
      ]
     },
     "metadata": {
      "needs_background": "light"
     },
     "output_type": "display_data"
    }
   ],
   "source": [
    "import seaborn as sns\n",
    "\n",
    "import matplotlib.pyplot as plt\n",
    "\n",
    "fig, ax = plt.subplots(figsize=(10,10))         # Sample figsize in inches\n",
    "#sns.heatmap(df1.iloc[:, 1:6:], annot=True, linewidths=.5, ax=ax)\n",
    "\n",
    "sns.heatmap(train.corr(), ax=ax)"
   ]
  },
  {
   "cell_type": "code",
   "execution_count": 20,
   "id": "8f8522ee-7321-4704-9524-d433cfac2259",
   "metadata": {},
   "outputs": [],
   "source": [
    "import itertools"
   ]
  },
  {
   "cell_type": "code",
   "execution_count": 21,
   "id": "5a614552-a1a0-4f92-a60e-eb8f11a09009",
   "metadata": {},
   "outputs": [
    {
     "name": "stdout",
     "output_type": "stream",
     "text": [
      "The absolute correlation coefficient between precipitation_amt_mm and reanalysis_sat_precip_amt_mm is higher 0.9 [correlation coefficient = 1.0].\n",
      "The absolute correlation coefficient between reanalysis_dew_point_temp_k and reanalysis_specific_humidity_g_per_kg is higher 0.9 [correlation coefficient = 0.9970512932011444].\n"
     ]
    }
   ],
   "source": [
    "\n",
    "for (c1, c2) in itertools.combinations(train.corr().columns, 2):\n",
    "        if np.abs(train.corr().loc[c1,c2]) > 0.95 and c1 != c2:\n",
    "            print(f\"The absolute correlation coefficient between {c1} and {c2} is higher 0.9 [correlation coefficient = {train.corr().loc[c1,c2]}].\")"
   ]
  },
  {
   "cell_type": "code",
   "execution_count": 24,
   "id": "3ad503e6-3fe3-49e3-8c67-2552613148da",
   "metadata": {},
   "outputs": [
    {
     "data": {
      "text/plain": [
       "reanalysis_specific_humidity_g_per_kg    0.236476\n",
       "reanalysis_dew_point_temp_k              0.230401\n",
       "reanalysis_min_air_temp_k                0.214514\n",
       "station_min_temp_c                       0.211702\n",
       "year                                     0.179451\n",
       "reanalysis_tdtr_k                        0.134425\n",
       "reanalysis_relative_humidity_percent     0.130083\n",
       "station_avg_temp_c                       0.113070\n",
       "reanalysis_precip_amt_kg_per_m2          0.101171\n",
       "reanalysis_air_temp_k                    0.097098\n",
       "reanalysis_sat_precip_amt_mm             0.090171\n",
       "precipitation_amt_mm                     0.090171\n",
       "reanalysis_avg_temp_k                    0.079872\n",
       "station_max_temp_c                       0.075279\n",
       "station_diur_temp_rng_c                  0.058230\n",
       "reanalysis_max_air_temp_k                0.056474\n",
       "station_precip_mm                        0.042976\n",
       "ndvi_se                                  0.041067\n",
       "ndvi_sw                                  0.032999\n",
       "ndvi_ne                                  0.020215\n",
       "weekofyear                               0.011850\n",
       "ndvi_nw                                  0.009586\n",
       "Name: total_cases, dtype: float64"
      ]
     },
     "execution_count": 24,
     "metadata": {},
     "output_type": "execute_result"
    }
   ],
   "source": [
    "np.abs(train[train.city=='iq'].corr()['total_cases']).sort_values(ascending=False)[1:]"
   ]
  },
  {
   "cell_type": "code",
   "execution_count": 26,
   "id": "927476ba-9039-4e04-b671-6549645310ba",
   "metadata": {},
   "outputs": [
    {
     "data": {
      "text/plain": [
       "weekofyear                               0.287134\n",
       "year                                     0.212690\n",
       "reanalysis_specific_humidity_g_per_kg    0.207947\n",
       "reanalysis_dew_point_temp_k              0.203774\n",
       "station_avg_temp_c                       0.196617\n",
       "reanalysis_max_air_temp_k                0.194532\n",
       "station_max_temp_c                       0.189901\n",
       "reanalysis_min_air_temp_k                0.187943\n",
       "reanalysis_air_temp_k                    0.181917\n",
       "station_min_temp_c                       0.177012\n",
       "reanalysis_avg_temp_k                    0.175267\n",
       "reanalysis_relative_humidity_percent     0.144045\n",
       "reanalysis_precip_amt_kg_per_m2          0.107457\n",
       "ndvi_nw                                  0.075307\n",
       "reanalysis_tdtr_k                        0.067600\n",
       "reanalysis_sat_precip_amt_mm             0.060211\n",
       "precipitation_amt_mm                     0.060211\n",
       "station_precip_mm                        0.051759\n",
       "ndvi_ne                                  0.037639\n",
       "station_diur_temp_rng_c                  0.034630\n",
       "ndvi_se                                  0.001113\n",
       "ndvi_sw                                  0.000333\n",
       "Name: total_cases, dtype: float64"
      ]
     },
     "execution_count": 26,
     "metadata": {},
     "output_type": "execute_result"
    }
   ],
   "source": [
    "np.abs(train[train.city=='sj'].corr()['total_cases']).sort_values(ascending=False)[1:]"
   ]
  },
  {
   "cell_type": "code",
   "execution_count": 27,
   "id": "9a86b8ad-03c8-4d4c-9018-e6e0fffce6f6",
   "metadata": {},
   "outputs": [
    {
     "data": {
      "text/plain": [
       "reanalysis_min_air_temp_k                0.325252\n",
       "year                                     0.306806\n",
       "reanalysis_tdtr_k                        0.278483\n",
       "station_min_temp_c                       0.267109\n",
       "reanalysis_air_temp_k                    0.264952\n",
       "ndvi_ne                                  0.241376\n",
       "station_diur_temp_rng_c                  0.237844\n",
       "weekofyear                               0.216452\n",
       "ndvi_nw                                  0.202235\n",
       "ndvi_sw                                  0.196461\n",
       "reanalysis_max_air_temp_k                0.191345\n",
       "ndvi_se                                  0.168612\n",
       "reanalysis_avg_temp_k                    0.151637\n",
       "reanalysis_dew_point_temp_k              0.142531\n",
       "reanalysis_relative_humidity_percent     0.132452\n",
       "reanalysis_specific_humidity_g_per_kg    0.129861\n",
       "station_avg_temp_c                       0.116109\n",
       "station_precip_mm                        0.074374\n",
       "station_max_temp_c                       0.039219\n",
       "precipitation_amt_mm                     0.038740\n",
       "reanalysis_sat_precip_amt_mm             0.038740\n",
       "reanalysis_precip_amt_kg_per_m2          0.010031\n",
       "Name: total_cases, dtype: float64"
      ]
     },
     "execution_count": 27,
     "metadata": {},
     "output_type": "execute_result"
    }
   ],
   "source": [
    "np.abs(train.corr()['total_cases']).sort_values(ascending=False)[1:]"
   ]
  },
  {
   "cell_type": "code",
   "execution_count": null,
   "id": "ae8f214b-5b13-4b55-92c9-85e2a4768c43",
   "metadata": {},
   "outputs": [],
   "source": []
  }
 ],
 "metadata": {
  "kernelspec": {
   "display_name": "Python 3 (ipykernel)",
   "language": "python",
   "name": "python3"
  },
  "language_info": {
   "codemirror_mode": {
    "name": "ipython",
    "version": 3
   },
   "file_extension": ".py",
   "mimetype": "text/x-python",
   "name": "python",
   "nbconvert_exporter": "python",
   "pygments_lexer": "ipython3",
   "version": "3.9.7"
  }
 },
 "nbformat": 4,
 "nbformat_minor": 5
}
